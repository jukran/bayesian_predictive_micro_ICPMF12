{
  "nbformat": 4,
  "nbformat_minor": 0,
  "metadata": {
    "colab": {
      "provenance": [],
      "authorship_tag": "ABX9TyNSrW6GixvJUOxMFojz88xg",
      "include_colab_link": true
    },
    "kernelspec": {
      "name": "python3",
      "display_name": "Python 3"
    },
    "language_info": {
      "name": "python"
    }
  },
  "cells": [
    {
      "cell_type": "markdown",
      "metadata": {
        "id": "view-in-github",
        "colab_type": "text"
      },
      "source": [
        "<a href=\"https://colab.research.google.com/github/kento-koyama/bayesian_predictive_micro_ICPMF12/blob/main/Workshop_(inactivation).ipynb\" target=\"_parent\"><img src=\"https://colab.research.google.com/assets/colab-badge.svg\" alt=\"Open In Colab\"/></a>"
      ]
    },
    {
      "cell_type": "markdown",
      "source": [
        "#Modelling\n",
        "##Load libraries.  \n",
        "pystan: Bayesian MCMC  \n",
        "pandas: Data manipulation  \n",
        "numpy: Data calculation  \n",
        "seaborn: Visualization  \n",
        "matplotlib.pyplot: Visualization  \n",
        "pickles: Object saving/loading  \n",
        "arviz: Visualization of pystan  "
      ],
      "metadata": {
        "id": "nRQCxTEoV80i"
      }
    },
    {
      "cell_type": "code",
      "execution_count": null,
      "metadata": {
        "id": "4HU-pr93R_Yd",
        "colab": {
          "base_uri": "https://localhost:8080/",
          "height": 1000
        },
        "outputId": "8ec60859-96b3-4ef8-e0a9-bd55d7ec4c08"
      },
      "outputs": [
        {
          "output_type": "stream",
          "name": "stdout",
          "text": [
            "\u001b[31mERROR: Operation cancelled by user\u001b[0m\u001b[31m\n",
            "\u001b[0mTraceback (most recent call last):\n",
            "  File \"/usr/local/lib/python3.9/dist-packages/pip/_internal/cli/base_command.py\", line 167, in exc_logging_wrapper\n",
            "    status = run_func(*args)\n",
            "  File \"/usr/local/lib/python3.9/dist-packages/pip/_internal/cli/req_command.py\", line 199, in wrapper\n",
            "    return func(self, options, args)\n",
            "  File \"/usr/local/lib/python3.9/dist-packages/pip/_internal/commands/install.py\", line 339, in run\n",
            "    requirement_set = resolver.resolve(\n",
            "  File \"/usr/local/lib/python3.9/dist-packages/pip/_internal/resolution/resolvelib/resolver.py\", line 94, in resolve\n",
            "    result = self._result = resolver.resolve(\n",
            "  File \"/usr/local/lib/python3.9/dist-packages/pip/_vendor/resolvelib/resolvers.py\", line 481, in resolve\n",
            "    state = resolution.resolve(requirements, max_rounds=max_rounds)\n",
            "  File \"/usr/local/lib/python3.9/dist-packages/pip/_vendor/resolvelib/resolvers.py\", line 348, in resolve\n",
            "    self._add_to_criteria(self.state.criteria, r, parent=None)\n",
            "  File \"/usr/local/lib/python3.9/dist-packages/pip/_vendor/resolvelib/resolvers.py\", line 172, in _add_to_criteria\n",
            "    if not criterion.candidates:\n",
            "  File \"/usr/local/lib/python3.9/dist-packages/pip/_vendor/resolvelib/structs.py\", line 151, in __bool__\n",
            "    return bool(self._sequence)\n",
            "  File \"/usr/local/lib/python3.9/dist-packages/pip/_internal/resolution/resolvelib/found_candidates.py\", line 155, in __bool__\n",
            "    return any(self)\n",
            "  File \"/usr/local/lib/python3.9/dist-packages/pip/_internal/resolution/resolvelib/found_candidates.py\", line 143, in <genexpr>\n",
            "    return (c for c in iterator if id(c) not in self._incompatible_ids)\n",
            "  File \"/usr/local/lib/python3.9/dist-packages/pip/_internal/resolution/resolvelib/found_candidates.py\", line 47, in _iter_built\n",
            "    candidate = func()\n",
            "  File \"/usr/local/lib/python3.9/dist-packages/pip/_internal/resolution/resolvelib/factory.py\", line 215, in _make_candidate_from_link\n",
            "    self._link_candidate_cache[link] = LinkCandidate(\n",
            "  File \"/usr/local/lib/python3.9/dist-packages/pip/_internal/resolution/resolvelib/candidates.py\", line 288, in __init__\n",
            "    super().__init__(\n",
            "  File \"/usr/local/lib/python3.9/dist-packages/pip/_internal/resolution/resolvelib/candidates.py\", line 158, in __init__\n",
            "    self.dist = self._prepare()\n",
            "  File \"/usr/local/lib/python3.9/dist-packages/pip/_internal/resolution/resolvelib/candidates.py\", line 227, in _prepare\n",
            "    dist = self._prepare_distribution()\n",
            "  File \"/usr/local/lib/python3.9/dist-packages/pip/_internal/resolution/resolvelib/candidates.py\", line 299, in _prepare_distribution\n",
            "    return preparer.prepare_linked_requirement(self._ireq, parallel_builds=True)\n",
            "  File \"/usr/local/lib/python3.9/dist-packages/pip/_internal/operations/prepare.py\", line 487, in prepare_linked_requirement\n",
            "    return self._prepare_linked_requirement(req, parallel_builds)\n",
            "  File \"/usr/local/lib/python3.9/dist-packages/pip/_internal/operations/prepare.py\", line 532, in _prepare_linked_requirement\n",
            "    local_file = unpack_url(\n",
            "  File \"/usr/local/lib/python3.9/dist-packages/pip/_internal/operations/prepare.py\", line 224, in unpack_url\n",
            "    unpack_file(file.path, location, file.content_type)\n",
            "  File \"/usr/local/lib/python3.9/dist-packages/pip/_internal/utils/unpacking.py\", line 247, in unpack_file\n",
            "    untar_file(filename, location)\n",
            "  File \"/usr/local/lib/python3.9/dist-packages/pip/_internal/utils/unpacking.py\", line 218, in untar_file\n",
            "    with open(path, \"wb\") as destfp:\n",
            "KeyboardInterrupt\n",
            "\n",
            "During handling of the above exception, another exception occurred:\n",
            "\n",
            "Traceback (most recent call last):\n",
            "  File \"/usr/local/bin/pip3\", line 8, in <module>\n",
            "    sys.exit(main())\n",
            "  File \"/usr/local/lib/python3.9/dist-packages/pip/_internal/cli/main.py\", line 70, in main\n",
            "    return command.main(cmd_args)\n",
            "  File \"/usr/local/lib/python3.9/dist-packages/pip/_internal/cli/base_command.py\", line 101, in main\n",
            "    return self._main(args)\n",
            "  File \"/usr/local/lib/python3.9/dist-packages/pip/_internal/cli/base_command.py\", line 221, in _main\n",
            "    return run(options, args)\n",
            "  File \"/usr/local/lib/python3.9/dist-packages/pip/_internal/cli/base_command.py\", line 204, in exc_logging_wrapper\n",
            "    logger.critical(\"Operation cancelled by user\")\n",
            "  File \"/usr/lib/python3.9/logging/__init__.py\", line 1493, in critical\n",
            "    self._log(CRITICAL, msg, args, **kwargs)\n",
            "  File \"/usr/lib/python3.9/logging/__init__.py\", line 1589, in _log\n",
            "    self.handle(record)\n",
            "  File \"/usr/lib/python3.9/logging/__init__.py\", line 1599, in handle\n",
            "    self.callHandlers(record)\n",
            "  File \"/usr/lib/python3.9/logging/__init__.py\", line 1661, in callHandlers\n",
            "    hdlr.handle(record)\n",
            "KeyboardInterrupt\n",
            "^C\n"
          ]
        },
        {
          "output_type": "error",
          "ename": "ModuleNotFoundError",
          "evalue": "ignored",
          "traceback": [
            "\u001b[0;31m---------------------------------------------------------------------------\u001b[0m",
            "\u001b[0;31mModuleNotFoundError\u001b[0m                       Traceback (most recent call last)",
            "\u001b[0;32m<ipython-input-2-f17bd9d1753b>\u001b[0m in \u001b[0;36m<module>\u001b[0;34m\u001b[0m\n\u001b[1;32m      1\u001b[0m \u001b[0mget_ipython\u001b[0m\u001b[0;34m(\u001b[0m\u001b[0;34m)\u001b[0m\u001b[0;34m.\u001b[0m\u001b[0msystem\u001b[0m\u001b[0;34m(\u001b[0m\u001b[0;34m'pip install -Uqq pystan==2.19.1.1'\u001b[0m\u001b[0;34m)\u001b[0m\u001b[0;34m\u001b[0m\u001b[0;34m\u001b[0m\u001b[0m\n\u001b[0;32m----> 2\u001b[0;31m \u001b[0;32mimport\u001b[0m \u001b[0mpystan\u001b[0m\u001b[0;34m\u001b[0m\u001b[0;34m\u001b[0m\u001b[0m\n\u001b[0m\u001b[1;32m      3\u001b[0m \u001b[0;32mimport\u001b[0m \u001b[0mpandas\u001b[0m \u001b[0;32mas\u001b[0m \u001b[0mpd\u001b[0m\u001b[0;34m\u001b[0m\u001b[0;34m\u001b[0m\u001b[0m\n\u001b[1;32m      4\u001b[0m \u001b[0;32mimport\u001b[0m \u001b[0mnumpy\u001b[0m \u001b[0;32mas\u001b[0m \u001b[0mnp\u001b[0m\u001b[0;34m\u001b[0m\u001b[0;34m\u001b[0m\u001b[0m\n\u001b[1;32m      5\u001b[0m \u001b[0;32mimport\u001b[0m \u001b[0mseaborn\u001b[0m \u001b[0;32mas\u001b[0m \u001b[0msns\u001b[0m\u001b[0;34m\u001b[0m\u001b[0;34m\u001b[0m\u001b[0m\n",
            "\u001b[0;31mModuleNotFoundError\u001b[0m: No module named 'pystan'",
            "",
            "\u001b[0;31m---------------------------------------------------------------------------\u001b[0;32m\nNOTE: If your import is failing due to a missing package, you can\nmanually install dependencies using either !pip or !apt.\n\nTo view examples of installing some common dependencies, click the\n\"Open Examples\" button below.\n\u001b[0;31m---------------------------------------------------------------------------\u001b[0m\n"
          ],
          "errorDetails": {
            "actions": [
              {
                "action": "open_url",
                "actionText": "Open Examples",
                "url": "/notebooks/snippets/importing_libraries.ipynb"
              }
            ]
          }
        }
      ],
      "source": [
        "!pip install -Uqq pystan==2.19.1.1\n",
        "import pystan \n",
        "import pandas as pd\n",
        "import numpy as np\n",
        "import seaborn as sns\n",
        "import matplotlib.pyplot as plt\n",
        "import numpy as np\n",
        "import pandas as pd\n",
        "import seaborn as sns\n",
        "import matplotlib.pyplot as plt\n",
        "import scipy\n",
        "from scipy import stats\n",
        "import math\n",
        "from sklearn.metrics import mean_squared_error\n",
        "plt.rcParams['font.sans-serif'] = ['Arial'] "
      ]
    },
    {
      "cell_type": "markdown",
      "source": [
        "#Data reading and preperation\n",
        "\n",
        "The data imported from reported article through github: Hiura, S., Abe, H., Koyama, K. & Koseki, S. Bayesian generalized linear model for simulating bacterial inactivation/growth considering variability and uncertainty. Front. Microbiol. 12, 674364 (2021)."
      ],
      "metadata": {
        "id": "ha2N_6cZaCxW"
      }
    },
    {
      "cell_type": "code",
      "source": [
        "url = \"https://raw.githubusercontent.com/Satoko-Hiura/Bayesian-generalized-linear-model-for-simulating-bacterial-inactivation-growth/main/code/inactivation/data/bayesian_fitting.csv\"\n",
        "data = pd.read_csv(url, encoding='utf-8')\n",
        "TIME = data['TIME']\n",
        "Nt = data['Nt']\n",
        "Initial = data['Initial']"
      ],
      "metadata": {
        "id": "rAvO-bQDSIFf"
      },
      "execution_count": null,
      "outputs": []
    },
    {
      "cell_type": "markdown",
      "source": [
        "#Model construction\n",
        "stan_code includea the script for stan (C language).\n",
        "stan scropt is constructed by several sections.\n",
        "\n",
        "##data section\n",
        "Define the data shape\n",
        "##parameters section\n",
        "Define the parameters and parameter shape\n",
        "##model section\n",
        "Define the following prior distribution"
      ],
      "metadata": {
        "id": "mW6_yFYbbn1i"
      }
    },
    {
      "cell_type": "code",
      "source": [
        "#parameter estimation\n",
        "#compile\n",
        "\n",
        "stan_code = \"\"\"\n",
        "  data {\n",
        "    int M;\n",
        "\t  int<lower=0> Nt[M];\n",
        "\t  real TIME[M];\n",
        "\t  int Initial[M];\n",
        "  }\n",
        "\n",
        "  parameters {\n",
        "\t  real<lower=0> a;\n",
        "\t  real<lower=0> b;  \n",
        "\t  real<lower=0> n0;\n",
        "  }\n",
        "\n",
        "  model {\n",
        "\t  for (m in 1:M) {\n",
        "\t\t  if (Initial[m] != 0 ) {\n",
        "\t\t\t  Nt[Initial[m]] ~ poisson(n0);\n",
        "\t\t  }\n",
        "\t  }\n",
        "    for (m in 1:M) {        \n",
        "        Nt[m] ~ binomial(n0,10^(-((TIME[m]/a)^b)));\n",
        "    }\n",
        "  }\n",
        "\n",
        "\"\"\"\n",
        "\n",
        "model = pystan.StanModel(model_code=stan_code)"
      ],
      "metadata": {
        "id": "CHAkppCsSIUX"
      },
      "execution_count": null,
      "outputs": []
    },
    {
      "cell_type": "code",
      "source": [],
      "metadata": {
        "id": "7NlLgNcYdDoo"
      },
      "execution_count": null,
      "outputs": []
    },
    {
      "cell_type": "code",
      "source": [
        "stan_data = data.to_dict('list')\n",
        "stan_data.update({'M':len(data)})"
      ],
      "metadata": {
        "id": "dFkfzYSUSIX-"
      },
      "execution_count": null,
      "outputs": []
    },
    {
      "cell_type": "code",
      "source": [
        "#MCMC sampling\n",
        "fit_nuts = model.sampling(data = stan_data,iter=10000,chains=4,warmup=5000)"
      ],
      "metadata": {
        "id": "SYtGVz0-SIaj"
      },
      "execution_count": null,
      "outputs": []
    },
    {
      "cell_type": "code",
      "source": [
        "scale = fit_nuts['a'] #scale parameter(δ)\n",
        "shape = fit_nuts['b'] #shape parameter(p)"
      ],
      "metadata": {
        "id": "CLc5oVLeSIdc"
      },
      "execution_count": null,
      "outputs": []
    },
    {
      "cell_type": "code",
      "source": [
        "#correlation\n",
        "def corrfunc(x, y, **kws):\n",
        "    r, _ = stats.spearmanr(x, y)\n",
        "    ax = plt.gca()\n",
        "    ax.axis('on')\n",
        "    txtcolor = 'black' if math.fabs(r) < 0.5 else 'white'\n",
        "    ax.text(.5, .5, 'Corr:\\n{:.2f}'.format(r),color=txtcolor, fontsize=28, horizontalalignment='center', verticalalignment='center', transform=ax.transAxes)"
      ],
      "metadata": {
        "id": "q1fD_XF0SIgj"
      },
      "execution_count": null,
      "outputs": []
    },
    {
      "cell_type": "code",
      "source": [
        "#pairplot\n",
        "sns.set(style='ticks', font_scale=1.2)\n",
        "d = pd.DataFrame({'δ':scale,'p':shape},columns=['δ', 'p'])\n",
        "g = sns.PairGrid(d)\n",
        "g = g.map_diag(plt.hist,color='k')\n",
        "g = g.map_lower(plt.scatter,color='k')\n",
        "g = g.map_upper(corrfunc)\n",
        "g = g.add_legend()"
      ],
      "metadata": {
        "colab": {
          "base_uri": "https://localhost:8080/",
          "height": 425
        },
        "id": "ha4PEgzGSIi4",
        "outputId": "db4c7546-29a8-4da6-e1cb-acd0599b1cf6"
      },
      "execution_count": null,
      "outputs": [
        {
          "output_type": "stream",
          "name": "stderr",
          "text": [
            "/usr/local/lib/python3.9/dist-packages/seaborn/axisgrid.py:181: UserWarning: The label '_nolegend_' of <matplotlib.patches.Patch object at 0x7f6f0132a490> starts with '_'. It is thus excluded from the legend.\n",
            "  figlegend = self._figure.legend(handles, labels, **kwargs)\n"
          ]
        },
        {
          "output_type": "display_data",
          "data": {
            "text/plain": [
              "<Figure size 370.56x360 with 6 Axes>"
            ],
            "image/png": "[encoded data removed]"
          },
          "metadata": {}
        }
      ]
    },
    {
      "cell_type": "code",
      "source": [
        "url = \"https://raw.githubusercontent.com/Satoko-Hiura/Bayesian-generalized-linear-model-for-simulating-bacterial-inactivation-growth/main/code/inactivation/data/frequentism_fitting.csv\"\n",
        "data = pd.read_csv(url, encoding='utf-8')\n",
        "\n",
        "t = data['TIME']\n",
        "R = data['Ratio']\n",
        "\n",
        "#fitting\n",
        "parameter_initial = np.array([1.4,1.4])\n",
        "def func(t, α, β):\n",
        "    return -((t/α)**β)\n",
        "parameter_optimal, covariance= scipy.optimize.curve_fit(func, t, R, p0=parameter_initial)\n",
        "y = func(t, parameter_optimal[0], parameter_optimal[1])\n",
        "print(\"scale parameter (α) =\", format(parameter_optimal[0]))\n",
        "print(\"shape parameter (β) =\", format(parameter_optimal[1]))\n",
        "RMSE = np.sqrt(mean_squared_error(R,y))\n",
        "print(\"RMSE= \", format(RMSE))\n",
        "\n",
        "#result of fitting\n",
        "T = np.arange(0,6,0.05)\n",
        "y = 4.9-((T/parameter_optimal[0])**parameter_optimal[1])\n"
      ],
      "metadata": {
        "colab": {
          "base_uri": "https://localhost:8080/"
        },
        "id": "ttaPeieASIlf",
        "outputId": "5be9556c-4d6f-4372-89cf-9b268131ea29"
      },
      "execution_count": null,
      "outputs": [
        {
          "output_type": "stream",
          "name": "stdout",
          "text": [
            "scale parameter (α) = 1.5848891703833252\n",
            "shape parameter (β) = 1.2615817915254068\n",
            "RMSE=  0.17570346625247327\n"
          ]
        }
      ]
    },
    {
      "cell_type": "code",
      "source": [
        "#fitting by bayesian \n",
        "scale = fit_nuts['a'] #scale parameter(δ)\n",
        "shape = fit_nuts['b'] #shape parameter(p)\n",
        "N0 = 79000 #initial cell number\n",
        "\n",
        "#time\n",
        "T0 =[]\n",
        "for n in range(61):\n",
        "    t0 = n*0.1\n",
        "    T0.append(t0)\n",
        "T1 = pd.DataFrame(T0)\n",
        "\n",
        "#confidence interval\n",
        "y_conf_int = np.zeros((len(scale),len(T0)))\n",
        "for i in range(len(scale)):\n",
        "    for j in range(len(T0)):\n",
        "        y_conf_int[i,j] = N0*(10**(-((np.array(T0[j])/scale[i])**(shape[i]))))\n",
        "y_conf_int_975 = np.percentile(y_conf_int, 2.5, axis=0)\n",
        "y_conf_int_025 = np.percentile(y_conf_int, 97.5, axis=0)\n",
        "y_conf_int_500 = np.percentile(y_conf_int, 50.0, axis=0)\n",
        "y_conf = np.log10(y_conf_int)\n",
        "y_conf_975 = np.percentile(y_conf, 2.5, axis=0)\n",
        "y_conf_025 = np.percentile(y_conf, 97.5, axis=0)\n",
        "y_conf_500 = np.percentile(y_conf, 50.0, axis=0)\n",
        "\n",
        "#predicted interval\n",
        "y_pred_int = np.zeros((len(scale),len(T0)))\n",
        "for i in range(len(scale)): \n",
        "    for j in range(len(T0)):    \n",
        "        y_pred_int[i,j] = np.random.poisson(N0*(10**(-((np.array(T0[j])/scale[i])**(shape[i])))))\n",
        "y_pred_int_975 = np.percentile(y_pred_int, 2.5, axis=0)\n",
        "y_pred_int_025 = np.percentile(y_pred_int, 97.5, axis=0)\n",
        "y_pred_int_500 = np.percentile(y_pred_int, 50.0, axis=0)\n",
        "y_pred = np.log10(y_pred_int)\n",
        "y_pred_975 = np.percentile(y_pred, 2.5, axis=0)\n",
        "y_pred_025 = np.percentile(y_pred, 97.5, axis=0)\n",
        "y_pred_500 = np.percentile(y_pred, 50.0, axis=0)\n"
      ],
      "metadata": {
        "colab": {
          "base_uri": "https://localhost:8080/"
        },
        "id": "wA-vbywlSIoW",
        "outputId": "93933ab9-65d2-4d49-f806-aeebe1016881"
      },
      "execution_count": null,
      "outputs": [
        {
          "output_type": "stream",
          "name": "stderr",
          "text": [
            "<ipython-input-10-c0b2c45a5d75>:34: RuntimeWarning: divide by zero encountered in log10\n",
            "  y_pred = np.log10(y_pred_int)\n",
            "/usr/local/lib/python3.9/dist-packages/numpy/lib/function_base.py:4486: RuntimeWarning: invalid value encountered in subtract\n",
            "  diff_b_a = subtract(b, a)\n"
          ]
        }
      ]
    },
    {
      "cell_type": "code",
      "source": [
        "#graph\n",
        "#plot+frequentism+bayes\n",
        "url = \"https://raw.githubusercontent.com/Satoko-Hiura/Bayesian-generalized-linear-model-for-simulating-bacterial-inactivation-growth/main/code/inactivation/data/bayesian_fitting.csv\"\n",
        "data2 = pd.read_csv(url, encoding='utf-8')\n",
        "x = data2['TIME']\n",
        "y1 = data2['Nt']\n",
        "y1 = np.log10(y1)\n",
        "fig = plt.figure()\n",
        "plt.figure(figsize=(5,5))\n",
        "sns.set_style(style='ticks')\n",
        "plt.xlabel(\"Heating Time [min]\", size=16)\n",
        "plt.ylabel('Survival cell counts [$\\log_{10}$CFU]',fontsize=16, color='k')\n",
        "plt.tick_params(labelsize=16, direction='out')    \n",
        "plt.xticks([0,2,4,6])\n",
        "plt.xlim(-0.2,6.5)\n",
        "plt.ylim(-0.2,5.5)\n",
        "plt.plot(T, y, color=\"gray\", linestyle='dashed', lw=2, zorder=2, label='Conventional')     \n",
        "plt.text(5.25, -0.1, '×', fontsize=16)\n",
        "plt.plot(T0,y_conf_500, linestyle = 'solid', zorder=1, color='k', lw=2.0, label='Bayesian')\n",
        "plt.scatter(x, y1, facecolors='None', edgecolors='k',linewidths=1.5) \n",
        "plt.legend()\n",
        "plt.show()"
      ],
      "metadata": {
        "colab": {
          "base_uri": "https://localhost:8080/",
          "height": 400
        },
        "id": "MQ9Ukx7mSIrv",
        "outputId": "089f96d8-79b8-4dff-ed38-23d93bf43834"
      },
      "execution_count": null,
      "outputs": [
        {
          "output_type": "stream",
          "name": "stderr",
          "text": [
            "/usr/local/lib/python3.9/dist-packages/pandas/core/arraylike.py:397: RuntimeWarning: divide by zero encountered in log10\n",
            "  result = getattr(ufunc, method)(*inputs, **kwargs)\n"
          ]
        },
        {
          "output_type": "display_data",
          "data": {
            "text/plain": [
              "<Figure size 432x288 with 0 Axes>"
            ]
          },
          "metadata": {}
        },
        {
          "output_type": "display_data",
          "data": {
            "text/plain": [
              "<Figure size 360x360 with 1 Axes>"
            ],
            "image/png": "[encoded data removed]"
          },
          "metadata": {}
        }
      ]
    },
    {
      "cell_type": "code",
      "source": [
        "\n",
        "# data import\n",
        "url = \"https://raw.githubusercontent.com/Satoko-Hiura/Bayesian-generalized-linear-model-for-simulating-bacterial-inactivation-growth/main/code/inactivation/data/850cell.csv\"\n",
        "data = pd.read_csv(url, encoding='utf-8')\n",
        "time = data['TIME']\n",
        "N = data['N']"
      ],
      "metadata": {
        "id": "tf9wfOocSIzj"
      },
      "execution_count": null,
      "outputs": []
    },
    {
      "cell_type": "code",
      "source": [
        "#prepare for prediction\n",
        "#time \n",
        "T =[]\n",
        "for n in range(121):\n",
        "    t0 = n*0.05\n",
        "    T.append(t0)"
      ],
      "metadata": {
        "id": "8mvDnXZ1fG1b"
      },
      "execution_count": null,
      "outputs": []
    },
    {
      "cell_type": "code",
      "source": [
        "\n",
        "#prediction\n",
        "N0 = 850 #initial cell number\n",
        "\n",
        "y_pred_int = np.zeros((len(scale),len(T)))\n",
        "for i in range(len(scale)): \n",
        "    for j in range(len(T)):    \n",
        "        y_pred_int[i,j] = np.random.poisson(N0*(10**(-((np.array(T[j])/scale[i])**(shape[i])))))\n",
        "y_pred_int_975 = np.percentile(y_pred_int, 2.5, axis=0)\n",
        "y_pred_int_025 = np.percentile(y_pred_int, 97.5, axis=0)\n",
        "y_pred_int_500 = np.percentile(y_pred_int, 50.0, axis=0)\n",
        "y_pred = np.log10(y_pred_int)\n",
        "y_pred_975 = np.percentile(y_pred, 2.5, axis=0)\n",
        "y_pred_025 = np.percentile(y_pred, 97.5, axis=0)\n",
        "y_pred_500 = np.percentile(y_pred, 50.0, axis=0)"
      ],
      "metadata": {
        "colab": {
          "base_uri": "https://localhost:8080/"
        },
        "id": "t2ATgK6PfG4b",
        "outputId": "0cd3bc1f-88b7-4423-855f-0cbaeeb2aafd"
      },
      "execution_count": null,
      "outputs": [
        {
          "output_type": "stream",
          "name": "stderr",
          "text": [
            "<ipython-input-14-3d089093fd60>:11: RuntimeWarning: divide by zero encountered in log10\n",
            "  y_pred = np.log10(y_pred_int)\n",
            "/usr/local/lib/python3.9/dist-packages/numpy/lib/function_base.py:4486: RuntimeWarning: invalid value encountered in subtract\n",
            "  diff_b_a = subtract(b, a)\n"
          ]
        }
      ]
    },
    {
      "cell_type": "code",
      "source": [
        "\n",
        "#confidence interval\n",
        "y_conf_int = np.zeros((len(scale),len(T)))\n",
        "for i in range(len(scale)):\n",
        "    for j in range(len(T)):\n",
        "        y_conf_int[i,j] = N0*(10**(-((np.array(T[j])/scale[i])**(shape[i]))))\n",
        "\n",
        "y_conf_int_975 = np.percentile(y_conf_int, 2.5, axis=0)\n",
        "y_conf_int_025 = np.percentile(y_conf_int, 97.5, axis=0)\n",
        "y_conf_int_500 = np.percentile(y_conf_int, 50.0, axis=0)\n",
        "y_conf = np.log10(y_conf_int)\n",
        "y_conf_975 = np.percentile(y_conf, 2.5, axis=0)\n",
        "y_conf_025 = np.percentile(y_conf, 97.5, axis=0)\n",
        "y_conf_500 = np.percentile(y_conf, 50.0, axis=0)"
      ],
      "metadata": {
        "id": "xEeUvJfEfG6d"
      },
      "execution_count": null,
      "outputs": []
    },
    {
      "cell_type": "code",
      "source": [
        "#accuracy\n",
        "Time = [3.0,3.3,3.6,4.0,4.3,4.6]\n",
        "k=[0,1,2,3,4,5]\n",
        "evaluation =[]\n",
        "for t,k in zip(Time,k):\n",
        "    T1 = int(t*20)\n",
        "    y_pred_min = y_pred_int_975[T1]\n",
        "    y_pred_max = y_pred_int_025[T1]\n",
        "    hani =[]\n",
        "    for l in range(60):\n",
        "        number = 60*k + l\n",
        "        N_target = N[number]\n",
        "        if y_pred_min <= N_target <= y_pred_max :  \n",
        "            ans= 1\n",
        "        else:\n",
        "            ans=0\n",
        "        hani.append(ans)\n",
        "    correct =hani.count(1)\n",
        "    evaluation.append(correct)\n",
        "accuracy = (sum(evaluation)/(len(Time)*60))*100"
      ],
      "metadata": {
        "id": "HA0HUkn-fG-H"
      },
      "execution_count": null,
      "outputs": []
    },
    {
      "cell_type": "code",
      "source": [
        "\n",
        "#graph\n",
        "fig = plt.figure()\n",
        "plt.style.use('ggplot')\n",
        "sns.set_style(style='ticks')\n",
        "plt.figure(figsize=(5,5))\n",
        "plt.ylabel('Survival cell counts [$\\log_{10}$CFU]',fontsize=16, color='k')\n",
        "plt.xlabel('Heating time [min]', fontsize=16, color='k')\n",
        "plt.tick_params(labelsize=16, direction='out')\n",
        "plt.xlim(-0.2,6.2)\n",
        "plt.ylim(-0.1,4.4)\n",
        "plt.xticks([0,2,4,6])\n",
        "plt.scatter(0,np.log10(N0),zorder=2,facecolors='none', edgecolors='k',lw=1.5)\n",
        "plt.scatter(time,np.log10(N), zorder=2, facecolors ='none',edgecolors='k',linewidth=1.5)\n",
        "\n",
        "#prediction interval\n",
        "plt.plot(T,y_pred_025, linestyle = 'dashed', zorder=2, color='black', lw=2.0, label='95% prediction band')\n",
        "plt.plot(T,y_pred_975, linestyle = 'dashed', zorder=2, color='black', lw=2.0)\n",
        "plt.plot(T,y_pred_500, linestyle = 'solid', zorder=2, color='black', lw=2.0, label='Median')\n",
        "\n",
        "plt.legend()\n",
        "plt.show()"
      ],
      "metadata": {
        "colab": {
          "base_uri": "https://localhost:8080/",
          "height": 400
        },
        "id": "a4iOi8ptfHCJ",
        "outputId": "382ecffe-a910-4455-9826-6ba8ad4a12ff"
      },
      "execution_count": null,
      "outputs": [
        {
          "output_type": "stream",
          "name": "stderr",
          "text": [
            "/usr/local/lib/python3.9/dist-packages/pandas/core/arraylike.py:397: RuntimeWarning: divide by zero encountered in log10\n",
            "  result = getattr(ufunc, method)(*inputs, **kwargs)\n"
          ]
        },
        {
          "output_type": "display_data",
          "data": {
            "text/plain": [
              "<Figure size 432x288 with 0 Axes>"
            ]
          },
          "metadata": {}
        },
        {
          "output_type": "display_data",
          "data": {
            "text/plain": [
              "<Figure size 360x360 with 1 Axes>"
            ],
            "image/png": "[encoded data removed]"
          },
          "metadata": {}
        }
      ]
    },
    {
      "cell_type": "code",
      "source": [],
      "metadata": {
        "id": "3IPRJDX_fHEq"
      },
      "execution_count": null,
      "outputs": []
    },
    {
      "cell_type": "code",
      "source": [],
      "metadata": {
        "id": "GlrgY5QYfHHA"
      },
      "execution_count": null,
      "outputs": []
    },
    {
      "cell_type": "code",
      "source": [],
      "metadata": {
        "id": "aFcmHJQDfHIj"
      },
      "execution_count": null,
      "outputs": []
    },
    {
      "cell_type": "code",
      "source": [],
      "metadata": {
        "id": "R2kDc562fHKf"
      },
      "execution_count": null,
      "outputs": []
    },
    {
      "cell_type": "code",
      "source": [],
      "metadata": {
        "id": "o4N4tVTOfHMl"
      },
      "execution_count": null,
      "outputs": []
    },
    {
      "cell_type": "code",
      "source": [],
      "metadata": {
        "id": "bj-wzCmHfHPF"
      },
      "execution_count": null,
      "outputs": []
    }
  ]
}