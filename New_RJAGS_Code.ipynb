{
  "nbformat": 4,
  "nbformat_minor": 0,
  "metadata": {
    "colab": {
      "private_outputs": true,
      "provenance": [],
      "include_colab_link": true
    },
    "kernelspec": {
      "name": "ir",
      "display_name": "R"
    },
    "language_info": {
      "name": "R"
    },
    "gpuClass": "standard"
  },
  "cells": [
    {
      "cell_type": "markdown",
      "metadata": {
        "id": "view-in-github",
        "colab_type": "text"
      },
      "source": [
        "<a href=\"https://colab.research.google.com/github/kento-koyama/bayesian_predictive_micro_ICPMF12/blob/main/New_RJAGS_Code.ipynb\" target=\"_parent\"><img src=\"https://colab.research.google.com/assets/colab-badge.svg\" alt=\"Open In Colab\"/></a>"
      ]
    },
    {
      "cell_type": "code",
      "source": [
        "system(\"add-apt-repository -y ppa:marutter/rrutter4.0\")\n",
        "system(\"add-apt-repository -y ppa:c2d4u.team/c2d4u4.0+\") \n",
        "system(\"add-apt-repository ppa:cran/v8\") \n",
        "system(\"apt-get update\") \n",
        "system(\"apt-get install libnode-dev\") \n",
        "system(\"apt-get install r-cran-rjags\")\n",
        "library(rjags)\n",
        "help(rjags)"
      ],
      "metadata": {
        "id": "SCJaO6GkN_20"
      },
      "execution_count": null,
      "outputs": []
    }
  ]
}